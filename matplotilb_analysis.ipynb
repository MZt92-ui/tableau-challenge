{
 "cells": [
  {
   "cell_type": "markdown",
   "id": "14a08c3d",
   "metadata": {},
   "source": [
    "## Data Cleaning & Extraction"
   ]
  },
  {
   "cell_type": "code",
   "execution_count": null,
   "id": "a109f2c9",
   "metadata": {},
   "outputs": [],
   "source": [
    "import pandas as pd\n",
    "import matplotlib.pyplot as plt"
   ]
  },
  {
   "cell_type": "code",
   "execution_count": null,
   "id": "e3c88f33",
   "metadata": {},
   "outputs": [],
   "source": [
    "# read files \n",
    "jan = pd.read_csv(\"Resources/201901-citibike-tripdata.csv\")\n",
    "feb = pd.read_csv(\"Resources/201902-citibike-tripdata.csv\")\n",
    "mar = pd.read_csv(\"Resources/201903-citibike-tripdata.csv\")\n",
    "apr = pd.read_csv(\"Resources/201904-citibike-tripdata.csv\")\n",
    "may = pd.read_csv(\"Resources/201905-citibike-tripdata.csv\")\n",
    "jun = pd.read_csv(\"Resources/201906-citibike-tripdata.csv\")\n",
    "jul = pd.read_csv(\"Resources/201907-citibike-tripdata.csv\")\n",
    "aug = pd.read_csv(\"Resources/201908-citibike-tripdata.csv\")\n",
    "sep = pd.read_csv(\"Resources/201909-citibike-tripdata.csv\")\n",
    "oct = pd.read_csv(\"Resources/201910-citibike-tripdata.csv\")\n",
    "nov = pd.read_csv(\"Resources/201911-citibike-tripdata.csv\")\n",
    "dec = pd.read_csv(\"Resources/201912-citibike-tripdata.csv\")"
   ]
  },
  {
   "cell_type": "markdown",
   "id": "e0f6a53e",
   "metadata": {},
   "source": [
    "Check whether we need to remove any records,and it shows that only start & end stations are missing some records.\n",
    "I keep it as it is not wrong records but just missing information, and it would not impact results of station analysis as\n",
    "it is just a small scale.\n"
   ]
  },
  {
   "cell_type": "code",
   "execution_count": null,
   "id": "25c8e5e5",
   "metadata": {},
   "outputs": [],
   "source": [
    "df_list = [jan, feb, mar, apr, may, jun, jul, aug, sep, oct, nov, dec]\n",
    "for df in df_list:\n",
    "    print(f\"There are {df.shape[0]} row\")\n",
    "    print(df.isna().sum())\n",
    "    print(\"=\"*40)"
   ]
  },
  {
   "cell_type": "code",
   "execution_count": null,
   "id": "8a8b12e3",
   "metadata": {},
   "outputs": [],
   "source": [
    "# Filter the columns that we want & add Month column\n",
    "drop_columns = [\"stoptime\",\"end station id\",\"end station latitude\",\"end station longitude\",\"bikeid\"]\n",
    "\n",
    "for df in df_list: \n",
    "    df.drop(columns = drop_columns, inplace=True)\n",
    "    df[\"month\"]= [time[5:7]for time in df[\"starttime\"]]\n",
    "\n",
    "# Make the final data for analysis\n",
    "ana_df = pd.concat(df_list, axis=0, ignore_index=True)\n",
    "ana_df.head()"
   ]
  },
  {
   "cell_type": "code",
   "execution_count": null,
   "id": "0bba749d",
   "metadata": {},
   "outputs": [],
   "source": [
    "# Save it for further analysis\n",
    "ana_df.to_csv(\"Resources/2019_ana.csv\")"
   ]
  },
  {
   "cell_type": "markdown",
   "id": "4003aaed",
   "metadata": {},
   "source": [
    "## Analysis 1:　Ｍonthly total trips (by customer type)"
   ]
  },
  {
   "cell_type": "code",
   "execution_count": null,
   "id": "bf25050d",
   "metadata": {},
   "outputs": [],
   "source": [
    "# ana_df[\"usertype\"].unique()\n",
    "mon_total = ana_df[[\"usertype\", \"month\"]]\n",
    "x = mon_total[\"month\"].unique()\n",
    "y_sub = mon_total.loc[mon_total[\"usertype\"]==\"Subscriber\"].groupby(\"month\").count()[\"usertype\"]/1000000\n",
    "y_cus = mon_total.loc[mon_total[\"usertype\"]==\"Customer\"].groupby(\"month\").count()[\"usertype\"]/1000000"
   ]
  },
  {
   "cell_type": "code",
   "execution_count": null,
   "id": "31d9e4bb",
   "metadata": {},
   "outputs": [],
   "source": [
    "plt.figure(figsize=[10,6])\n",
    "plt.plot(x, y_sub, \"o-c\", label=\"Subscriber\")\n",
    "plt.plot(x, y_cus, \"o-g\", label=\"Customer\")\n",
    "plt.legend(loc=\"upper left\")\n",
    "plt.ylim(0, max(y_sub+0.2))\n",
    "plt.title(\"Monthly Total Trips\", fontsize=20)\n",
    "plt.ylabel(\"Total Trips (MM)\", fontsize=15)\n",
    "plt.savefig(\"analysis/1.jpg\")\n",
    "plt.show()"
   ]
  },
  {
   "cell_type": "markdown",
   "id": "63968e1a",
   "metadata": {},
   "source": [
    "## Analysis 2: Top Age Groups Utilising Program"
   ]
  },
  {
   "cell_type": "code",
   "execution_count": null,
   "id": "31432879",
   "metadata": {},
   "outputs": [],
   "source": [
    "import pandas as pd\n",
    "import matplotlib.pyplot as plt\n",
    "\n",
    "ana_df = pd.read_csv(\"Resources/2019_ana.csv\")"
   ]
  },
  {
   "cell_type": "code",
   "execution_count": null,
   "id": "f02c4fb1",
   "metadata": {},
   "outputs": [],
   "source": [
    "from datetime import datetime\n",
    "age_group = ana_df[[\"usertype\", \"birth year\"]]\n",
    "age_group[\"age\"]= datetime.now().year - age_group[\"birth year\"]"
   ]
  },
  {
   "cell_type": "code",
   "execution_count": null,
   "id": "21110d4c",
   "metadata": {},
   "outputs": [],
   "source": [
    "print(age_group[\"age\"].min(), age_group[\"age\"].max())\n",
    "print(age_group[\"age\"].value_counts().to_string())"
   ]
  },
  {
   "cell_type": "markdown",
   "id": "a4e992e9",
   "metadata": {},
   "source": [
    "Age groups would be categorised as:\n",
    "under 20, 20-30, 30-40, 40-50, 50-60,60-70,70-80, older than 80"
   ]
  },
  {
   "cell_type": "code",
   "execution_count": null,
   "id": "3cba3c03",
   "metadata": {},
   "outputs": [],
   "source": [
    "bins = [0,20,30,40,50,60,70,80,200]\n",
    "labels = [\"under 20\",\"20-30\",\"30-40\",\"40-50\",\"50-60\",\"60-70\",\"70-80\", \"Other\"]\n",
    "age_group[\"age_group\"]=pd.cut(x=age_group['age'],bins=bins, labels=labels)\n",
    "age_group.head()"
   ]
  },
  {
   "cell_type": "code",
   "execution_count": null,
   "id": "fcbf7097",
   "metadata": {},
   "outputs": [],
   "source": [
    "# get plotting data\n",
    "y_sub = age_group.loc[age_group[\"usertype\"]==\"Subscriber\"].groupby(\"age_group\").count()[\"usertype\"] / 1000\n",
    "y_cus = age_group.loc[age_group[\"usertype\"]==\"Customer\"].groupby(\"age_group\").count()[\"usertype\"] / 1000\n",
    "base = age_group.groupby(\"age_group\").count()[\"usertype\"]\n",
    "per = y_sub*1000/base\n",
    "label = [str(per[i]*100)[:4]+\"%\" for i in range(len(per))]"
   ]
  },
  {
   "cell_type": "code",
   "execution_count": null,
   "id": "7daa4694",
   "metadata": {},
   "outputs": [],
   "source": [
    "plt.figure(figsize=[10,8])\n",
    "plt.bar(labels, y_sub,color=\"c\", label=\"Subscriber (with % of respective age groups at the top)\")\n",
    "plt.bar(labels, y_cus, bottom=y_sub, color=\"g\", label=\"Customer\")\n",
    "plt.title(\"Total Trips by Age Groups\", fontsize=20)\n",
    "plt.ylabel(\"Trip No. (K)\", fontsize=15)\n",
    "plt.legend(loc=\"upper right\")\n",
    "for i in range(len(label)):\n",
    "    plt.text(labels[i], (y_sub[i]+y_cus[i]+100), label[i], ha=\"center\")\n",
    "plt.savefig(\"analysis/2.jpg\")\n",
    "plt.show()"
   ]
  },
  {
   "cell_type": "markdown",
   "id": "f05b1427",
   "metadata": {},
   "source": [
    "## Analysis 3: Total Trips by Gender"
   ]
  },
  {
   "cell_type": "code",
   "execution_count": null,
   "id": "0dcdf09f",
   "metadata": {},
   "outputs": [],
   "source": [
    "ana_df.head()"
   ]
  },
  {
   "cell_type": "code",
   "execution_count": null,
   "id": "551b4fcd",
   "metadata": {},
   "outputs": [],
   "source": [
    "gender_df = ana_df[[\"usertype\", \"gender\"]]\n",
    "x_label=[\"Unknown\", \"Male\",\"Female\"]\n",
    "y_sub = gender_df.loc[gender_df[\"usertype\"]==\"Subscriber\"].groupby(\"gender\").count()[\"usertype\"] / 1000\n",
    "y_cus = gender_df.loc[gender_df[\"usertype\"]==\"Customer\"].groupby(\"gender\").count()[\"usertype\"] / 1000\n",
    "base = gender_df.groupby(\"gender\").count()[\"usertype\"]\n",
    "per = y_sub*1000/base\n",
    "label = [str(per[i]*100)[:4]+\"%\" for i in range(len(per))]"
   ]
  },
  {
   "cell_type": "code",
   "execution_count": null,
   "id": "269ba437",
   "metadata": {},
   "outputs": [],
   "source": [
    "plt.figure(figsize=[10,5])\n",
    "plt.barh(x_label, y_sub,color=\"c\", label=\"Subscriber (with % of respective age groups at the right)\")\n",
    "plt.barh(x_label, y_cus, left=y_sub, color=\"g\", label=\"Customer\")\n",
    "plt.title(\"Total Trips by Gender\", fontsize=20)\n",
    "plt.xlabel(\"Trip No. (K)\", fontsize=15)\n",
    "plt.legend(loc=\"upper right\")\n",
    "for i in range(len(label)):\n",
    "    plt.text((y_sub[i]+y_cus[i]+450),x_label[i],label[i], ha=\"center\")\n",
    "plt.savefig(\"analysis/3.jpg\")\n",
    "plt.show()"
   ]
  },
  {
   "cell_type": "markdown",
   "id": "3a5de100",
   "metadata": {},
   "source": [
    "## Analysis 4: Peak Hours In A Day\n"
   ]
  },
  {
   "cell_type": "code",
   "execution_count": null,
   "id": "b4639b95",
   "metadata": {},
   "outputs": [],
   "source": [
    "import pandas as pd\n",
    "import matplotlib.pyplot as plt\n",
    "\n",
    "ana_df = pd.read_csv(\"Resources/2019_ana.csv\")\n",
    "ana_df.head()"
   ]
  },
  {
   "cell_type": "code",
   "execution_count": null,
   "id": "cf236ab2",
   "metadata": {},
   "outputs": [],
   "source": [
    "from datetime import datetime\n",
    "time_table = ana_df[[\"starttime\", \"birth year\"]]\n",
    "time_table[\"time\"] = [time_table[\"starttime\"][i][11:13] for i in range(time_table.shape[0])]\n",
    "time_table[\"age\"] = datetime.now().year - time_table[\"birth year\"]\n",
    "bins = [0,20,30,40,50,60,70,80,200]\n",
    "labels = [\"under 20\",\"20-30\",\"30-40\",\"40-50\",\"50-60\",\"60-70\",\"70-80\", \"Other\"]\n",
    "time_table[\"age_group\"]=pd.cut(x=time_table['age'],bins=bins, labels=labels)\n",
    "time_table.head()"
   ]
  },
  {
   "cell_type": "code",
   "execution_count": null,
   "id": "dcb2f95c",
   "metadata": {},
   "outputs": [],
   "source": [
    "x = time_table[\"time\"].unique()\n",
    "y = []\n",
    "\n",
    "for group in labels:\n",
    "    y.append(time_table.loc[time_table[\"age_group\"] == group].groupby(\"time\").count()[\"age_group\"]/1000)"
   ]
  },
  {
   "cell_type": "code",
   "execution_count": null,
   "id": "27a5898a",
   "metadata": {},
   "outputs": [],
   "source": [
    "plt.figure(figsize=[12,8])\n",
    "plt.stackplot(x,y,labels=labels, alpha=0.8)\n",
    "plt.title(\"Hourly Total Trips\", fontsize=20)\n",
    "plt.ylabel(\"Trip No. (K)\", fontsize=15)\n",
    "plt.xlim([0,23])\n",
    "plt.legend(loc=\"upper left\")\n",
    "plt.savefig(\"analysis/4.jpg\")\n",
    "plt.show()"
   ]
  },
  {
   "cell_type": "markdown",
   "id": "1f174ed8",
   "metadata": {},
   "source": [
    "## Analysis 5: Start Stations Map"
   ]
  },
  {
   "cell_type": "markdown",
   "id": "f1f7f627",
   "metadata": {},
   "source": [
    "understand trip durations\n",
    "* quantitibely determine whether outliers\n",
    "* draw outliers in the box plot\n",
    "* how to deal with outliers\n",
    "* draw the map"
   ]
  },
  {
   "cell_type": "code",
   "execution_count": null,
   "id": "76ff6526",
   "metadata": {},
   "outputs": [],
   "source": []
  }
 ],
 "metadata": {
  "kernelspec": {
   "display_name": "Python [conda env:bootcamp] *",
   "language": "python",
   "name": "conda-env-bootcamp-py"
  },
  "language_info": {
   "codemirror_mode": {
    "name": "ipython",
    "version": 3
   },
   "file_extension": ".py",
   "mimetype": "text/x-python",
   "name": "python",
   "nbconvert_exporter": "python",
   "pygments_lexer": "ipython3",
   "version": "3.7.13"
  }
 },
 "nbformat": 4,
 "nbformat_minor": 5
}
