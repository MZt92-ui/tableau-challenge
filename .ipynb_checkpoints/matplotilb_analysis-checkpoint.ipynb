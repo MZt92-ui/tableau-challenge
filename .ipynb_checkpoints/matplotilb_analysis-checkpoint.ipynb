{
 "cells": [
  {
   "cell_type": "markdown",
   "id": "14a08c3d",
   "metadata": {},
   "source": [
    "## Data Cleaning & Extraction"
   ]
  },
  {
   "cell_type": "code",
   "execution_count": null,
   "id": "a109f2c9",
   "metadata": {},
   "outputs": [],
   "source": [
    "import pandas as pd\n",
    "import matplotlib.pyplot as plt"
   ]
  },
  {
   "cell_type": "code",
   "execution_count": null,
   "id": "e3c88f33",
   "metadata": {},
   "outputs": [],
   "source": [
    "# read files \n",
    "jan = pd.read_csv(\"Resources/201901-citibike-tripdata.csv\")\n",
    "feb = pd.read_csv(\"Resources/201902-citibike-tripdata.csv\")\n",
    "mar = pd.read_csv(\"Resources/201903-citibike-tripdata.csv\")\n",
    "apr = pd.read_csv(\"Resources/201904-citibike-tripdata.csv\")\n",
    "may = pd.read_csv(\"Resources/201905-citibike-tripdata.csv\")\n",
    "jun = pd.read_csv(\"Resources/201906-citibike-tripdata.csv\")\n",
    "jul = pd.read_csv(\"Resources/201907-citibike-tripdata.csv\")\n",
    "aug = pd.read_csv(\"Resources/201908-citibike-tripdata.csv\")\n",
    "sep = pd.read_csv(\"Resources/201909-citibike-tripdata.csv\")\n",
    "oct = pd.read_csv(\"Resources/201910-citibike-tripdata.csv\")\n",
    "nov = pd.read_csv(\"Resources/201911-citibike-tripdata.csv\")\n",
    "dec = pd.read_csv(\"Resources/201912-citibike-tripdata.csv\")"
   ]
  },
  {
   "cell_type": "markdown",
   "id": "e0f6a53e",
   "metadata": {},
   "source": [
    "Check whether we need to remove any records,and it shows that only start & end stations are missing some records.\n",
    "I keep it as it is not wrong records but just missing information, and it would not impact results of station analysis as\n",
    "it is just a small scale.\n"
   ]
  },
  {
   "cell_type": "code",
   "execution_count": null,
   "id": "25c8e5e5",
   "metadata": {},
   "outputs": [],
   "source": [
    "df_list = [jan, feb, mar, apr, may, jun, jul, aug, sep, oct, nov, dec]\n",
    "for df in df_list:\n",
    "    print(f\"There are {df.shape[0]} row\")\n",
    "    print(df.isna().sum())\n",
    "    print(\"=\"*40)"
   ]
  },
  {
   "cell_type": "code",
   "execution_count": null,
   "id": "8a8b12e3",
   "metadata": {},
   "outputs": [],
   "source": [
    "# Filter the columns that we want & add Month column\n",
    "drop_columns = [\"stoptime\",\"end station id\",\"end station latitude\",\"end station longitude\",\"bikeid\"]\n",
    "\n",
    "for df in df_list: \n",
    "    df.drop(columns = drop_columns, inplace=True)\n",
    "    df[\"month\"]= [time[5:7]for time in df[\"starttime\"]]\n",
    "\n",
    "# Make the final data for analysis\n",
    "ana_df = pd.concat(df_list, axis=0, ignore_index=True)\n",
    "ana_df.head()"
   ]
  },
  {
   "cell_type": "code",
   "execution_count": null,
   "id": "0bba749d",
   "metadata": {},
   "outputs": [],
   "source": [
    "# Save it for further analysis\n",
    "ana_df.to_csv(\"Resources/2019_ana.csv\")"
   ]
  },
  {
   "cell_type": "markdown",
   "id": "4003aaed",
   "metadata": {},
   "source": [
    "## Analysis 1:　Ｍonthly total trips (by customer type)"
   ]
  },
  {
   "cell_type": "code",
   "execution_count": null,
   "id": "bf25050d",
   "metadata": {},
   "outputs": [],
   "source": [
    "# ana_df[\"usertype\"].unique()\n",
    "mon_total = ana_df[[\"usertype\", \"month\"]]\n",
    "x = mon_total[\"month\"].unique()\n",
    "y_sub = mon_total.loc[mon_total[\"usertype\"]==\"Subscriber\"].groupby(\"month\").count()[\"usertype\"]/1000000\n",
    "y_cus = mon_total.loc[mon_total[\"usertype\"]==\"Customer\"].groupby(\"month\").count()[\"usertype\"]/1000000"
   ]
  },
  {
   "cell_type": "code",
   "execution_count": null,
   "id": "31d9e4bb",
   "metadata": {},
   "outputs": [],
   "source": [
    "plt.figure(figsize=[10,6])\n",
    "plt.plot(x, y_sub, \"o-c\", label=\"Subscriber\")\n",
    "plt.plot(x, y_cus, \"o-g\", label=\"Customer\")\n",
    "plt.legend(loc=\"upper left\")\n",
    "plt.ylim(0, max(y_sub+0.2))\n",
    "plt.title(\"Monthly Total Trips\", fontsize=20)\n",
    "plt.ylabel(\"Total Trips (MM)\", fontsize=15)\n",
    "plt.savefig(\"analysis/1.jpg\")\n",
    "plt.show()"
   ]
  },
  {
   "cell_type": "markdown",
   "id": "63968e1a",
   "metadata": {},
   "source": [
    "## Analysis 2: Top Age Groups Utilising Program"
   ]
  },
  {
   "cell_type": "code",
   "execution_count": null,
   "id": "31432879",
   "metadata": {},
   "outputs": [],
   "source": [
    "import pandas as pd\n",
    "import matplotlib.pyplot as plt\n",
    "\n",
    "ana_df = pd.read_csv(\"Resources/2019_ana.csv\")"
   ]
  },
  {
   "cell_type": "code",
   "execution_count": null,
   "id": "f02c4fb1",
   "metadata": {},
   "outputs": [],
   "source": [
    "from datetime import datetime\n",
    "age_group = ana_df[[\"usertype\", \"birth year\"]]\n",
    "age_group[\"age\"]= datetime.now().year - age_group[\"birth year\"]"
   ]
  },
  {
   "cell_type": "code",
   "execution_count": null,
   "id": "21110d4c",
   "metadata": {},
   "outputs": [],
   "source": [
    "print(age_group[\"age\"].min(), age_group[\"age\"].max())\n",
    "print(age_group[\"age\"].value_counts().to_string())"
   ]
  },
  {
   "cell_type": "markdown",
   "id": "a4e992e9",
   "metadata": {},
   "source": [
    "Age groups would be categorised as:\n",
    "under 20, 20-30, 30-40, 40-50, 50-60,60-70,70-80, older than 80"
   ]
  },
  {
   "cell_type": "code",
   "execution_count": null,
   "id": "3cba3c03",
   "metadata": {},
   "outputs": [],
   "source": [
    "bins = [0,20,30,40,50,60,70,80,200]\n",
    "labels = [\"under 20\",\"20-30\",\"30-40\",\"40-50\",\"50-60\",\"60-70\",\"70-80\", \"Other\"]\n",
    "age_group[\"age_group\"]=pd.cut(x=age_group['age'],bins=bins, labels=labels)\n",
    "age_group.head()"
   ]
  },
  {
   "cell_type": "code",
   "execution_count": null,
   "id": "fcbf7097",
   "metadata": {},
   "outputs": [],
   "source": [
    "# get plotting data\n",
    "y_sub = age_group.loc[age_group[\"usertype\"]==\"Subscriber\"].groupby(\"age_group\").count()[\"usertype\"] / 1000\n",
    "y_cus = age_group.loc[age_group[\"usertype\"]==\"Customer\"].groupby(\"age_group\").count()[\"usertype\"] / 1000\n",
    "base = age_group.groupby(\"age_group\").count()[\"usertype\"]\n",
    "per = y_sub*1000/base\n",
    "label = [str(per[i]*100)[:4]+\"%\" for i in range(len(per))]"
   ]
  },
  {
   "cell_type": "code",
   "execution_count": null,
   "id": "7daa4694",
   "metadata": {},
   "outputs": [],
   "source": [
    "plt.figure(figsize=[10,8])\n",
    "plt.bar(labels, y_sub,color=\"c\", label=\"Subscriber (with % of respective age groups at the top)\")\n",
    "plt.bar(labels, y_cus, bottom=y_sub, color=\"g\", label=\"Customer\")\n",
    "plt.title(\"Total Trips by Age Groups\", fontsize=20)\n",
    "plt.ylabel(\"Trip No. (K)\", fontsize=15)\n",
    "plt.legend(loc=\"upper right\")\n",
    "for i in range(len(label)):\n",
    "    plt.text(labels[i], (y_sub[i]+y_cus[i]+100), label[i], ha=\"center\")\n",
    "plt.savefig(\"analysis/2.jpg\")\n",
    "plt.show()"
   ]
  },
  {
   "cell_type": "markdown",
   "id": "f05b1427",
   "metadata": {},
   "source": [
    "## Analysis 3: Total Trips by Gender"
   ]
  },
  {
   "cell_type": "code",
   "execution_count": null,
   "id": "0dcdf09f",
   "metadata": {},
   "outputs": [],
   "source": [
    "ana_df.head()"
   ]
  },
  {
   "cell_type": "code",
   "execution_count": null,
   "id": "551b4fcd",
   "metadata": {},
   "outputs": [],
   "source": [
    "gender_df = ana_df[[\"usertype\", \"gender\"]]\n",
    "x_label=[\"Unknown\", \"Male\",\"Female\"]\n",
    "y_sub = gender_df.loc[gender_df[\"usertype\"]==\"Subscriber\"].groupby(\"gender\").count()[\"usertype\"] / 1000\n",
    "y_cus = gender_df.loc[gender_df[\"usertype\"]==\"Customer\"].groupby(\"gender\").count()[\"usertype\"] / 1000\n",
    "base = gender_df.groupby(\"gender\").count()[\"usertype\"]\n",
    "per = y_sub*1000/base\n",
    "label = [str(per[i]*100)[:4]+\"%\" for i in range(len(per))]"
   ]
  },
  {
   "cell_type": "code",
   "execution_count": null,
   "id": "269ba437",
   "metadata": {},
   "outputs": [],
   "source": [
    "plt.figure(figsize=[10,5])\n",
    "plt.barh(x_label, y_sub,color=\"c\", label=\"Subscriber (with % of respective age groups at the right)\")\n",
    "plt.barh(x_label, y_cus, left=y_sub, color=\"g\", label=\"Customer\")\n",
    "plt.title(\"Total Trips by Gender\", fontsize=20)\n",
    "plt.xlabel(\"Trip No. (K)\", fontsize=15)\n",
    "plt.legend(loc=\"upper right\")\n",
    "for i in range(len(label)):\n",
    "    plt.text((y_sub[i]+y_cus[i]+450),x_label[i],label[i], ha=\"center\")\n",
    "plt.savefig(\"analysis/3.jpg\")\n",
    "plt.show()"
   ]
  },
  {
   "cell_type": "markdown",
   "id": "3a5de100",
   "metadata": {},
   "source": [
    "## Analysis 4: Peak Hours In A Day\n"
   ]
  },
  {
   "cell_type": "code",
   "execution_count": null,
   "id": "b4639b95",
   "metadata": {},
   "outputs": [],
   "source": [
    "import pandas as pd\n",
    "import matplotlib.pyplot as plt\n",
    "\n",
    "ana_df = pd.read_csv(\"Resources/2019_ana.csv\")\n",
    "ana_df.head()"
   ]
  },
  {
   "cell_type": "code",
   "execution_count": null,
   "id": "cf236ab2",
   "metadata": {},
   "outputs": [],
   "source": [
    "from datetime import datetime\n",
    "time_table = ana_df[[\"starttime\", \"birth year\"]]\n",
    "time_table[\"time\"] = [time_table[\"starttime\"][i][11:13] for i in range(time_table.shape[0])]\n",
    "time_table[\"age\"] = datetime.now().year - time_table[\"birth year\"]\n",
    "bins = [0,20,30,40,50,60,70,80,200]\n",
    "labels = [\"under 20\",\"20-30\",\"30-40\",\"40-50\",\"50-60\",\"60-70\",\"70-80\", \"Other\"]\n",
    "time_table[\"age_group\"]=pd.cut(x=time_table['age'],bins=bins, labels=labels)\n",
    "time_table.head()"
   ]
  },
  {
   "cell_type": "code",
   "execution_count": null,
   "id": "dcb2f95c",
   "metadata": {},
   "outputs": [],
   "source": [
    "x = time_table[\"time\"].unique()\n",
    "y = []\n",
    "\n",
    "for group in labels:\n",
    "    y.append(time_table.loc[time_table[\"age_group\"] == group].groupby(\"time\").count()[\"age_group\"]/1000)"
   ]
  },
  {
   "cell_type": "code",
   "execution_count": null,
   "id": "27a5898a",
   "metadata": {},
   "outputs": [],
   "source": [
    "plt.figure(figsize=[12,8])\n",
    "plt.stackplot(x,y,labels=labels, alpha=0.8)\n",
    "plt.title(\"Hourly Total Trips\", fontsize=20)\n",
    "plt.ylabel(\"Trip No. (K)\", fontsize=15)\n",
    "plt.xlim([0,23])\n",
    "plt.legend(loc=\"upper left\")\n",
    "plt.grid(axis=\"x\",linestyle=\"--\",color=\"grey\")\n",
    "plt.savefig(\"analysis/4.jpg\")\n",
    "plt.show()"
   ]
  },
  {
   "cell_type": "markdown",
   "id": "1f174ed8",
   "metadata": {},
   "source": [
    "## Analysis 5: Trip Duration Analysis"
   ]
  },
  {
   "cell_type": "code",
   "execution_count": 1,
   "id": "9ff58083",
   "metadata": {},
   "outputs": [
    {
     "data": {
      "text/html": [
       "<div>\n",
       "<style scoped>\n",
       "    .dataframe tbody tr th:only-of-type {\n",
       "        vertical-align: middle;\n",
       "    }\n",
       "\n",
       "    .dataframe tbody tr th {\n",
       "        vertical-align: top;\n",
       "    }\n",
       "\n",
       "    .dataframe thead th {\n",
       "        text-align: right;\n",
       "    }\n",
       "</style>\n",
       "<table border=\"1\" class=\"dataframe\">\n",
       "  <thead>\n",
       "    <tr style=\"text-align: right;\">\n",
       "      <th></th>\n",
       "      <th>Unnamed: 0</th>\n",
       "      <th>tripduration</th>\n",
       "      <th>starttime</th>\n",
       "      <th>start station id</th>\n",
       "      <th>start station name</th>\n",
       "      <th>start station latitude</th>\n",
       "      <th>start station longitude</th>\n",
       "      <th>end station name</th>\n",
       "      <th>usertype</th>\n",
       "      <th>birth year</th>\n",
       "      <th>gender</th>\n",
       "      <th>month</th>\n",
       "    </tr>\n",
       "  </thead>\n",
       "  <tbody>\n",
       "    <tr>\n",
       "      <th>0</th>\n",
       "      <td>0</td>\n",
       "      <td>320</td>\n",
       "      <td>2019-01-01 00:01:47.4010</td>\n",
       "      <td>3160.0</td>\n",
       "      <td>Central Park West &amp; W 76 St</td>\n",
       "      <td>40.778968</td>\n",
       "      <td>-73.973747</td>\n",
       "      <td>W 89 St &amp; Columbus Ave</td>\n",
       "      <td>Subscriber</td>\n",
       "      <td>1971</td>\n",
       "      <td>1</td>\n",
       "      <td>1</td>\n",
       "    </tr>\n",
       "    <tr>\n",
       "      <th>1</th>\n",
       "      <td>1</td>\n",
       "      <td>316</td>\n",
       "      <td>2019-01-01 00:04:43.7360</td>\n",
       "      <td>519.0</td>\n",
       "      <td>Pershing Square North</td>\n",
       "      <td>40.751873</td>\n",
       "      <td>-73.977706</td>\n",
       "      <td>E 39 St &amp; 2 Ave</td>\n",
       "      <td>Subscriber</td>\n",
       "      <td>1964</td>\n",
       "      <td>1</td>\n",
       "      <td>1</td>\n",
       "    </tr>\n",
       "    <tr>\n",
       "      <th>2</th>\n",
       "      <td>2</td>\n",
       "      <td>591</td>\n",
       "      <td>2019-01-01 00:06:03.9970</td>\n",
       "      <td>3171.0</td>\n",
       "      <td>Amsterdam Ave &amp; W 82 St</td>\n",
       "      <td>40.785247</td>\n",
       "      <td>-73.976673</td>\n",
       "      <td>E 77 St &amp; 3 Ave</td>\n",
       "      <td>Subscriber</td>\n",
       "      <td>1987</td>\n",
       "      <td>1</td>\n",
       "      <td>1</td>\n",
       "    </tr>\n",
       "    <tr>\n",
       "      <th>3</th>\n",
       "      <td>3</td>\n",
       "      <td>2719</td>\n",
       "      <td>2019-01-01 00:07:03.5450</td>\n",
       "      <td>504.0</td>\n",
       "      <td>1 Ave &amp; E 16 St</td>\n",
       "      <td>40.732219</td>\n",
       "      <td>-73.981656</td>\n",
       "      <td>W 15 St &amp; 6 Ave</td>\n",
       "      <td>Subscriber</td>\n",
       "      <td>1990</td>\n",
       "      <td>1</td>\n",
       "      <td>1</td>\n",
       "    </tr>\n",
       "    <tr>\n",
       "      <th>4</th>\n",
       "      <td>4</td>\n",
       "      <td>303</td>\n",
       "      <td>2019-01-01 00:07:35.9450</td>\n",
       "      <td>229.0</td>\n",
       "      <td>Great Jones St</td>\n",
       "      <td>40.727434</td>\n",
       "      <td>-73.993790</td>\n",
       "      <td>E 20 St &amp; Park Ave</td>\n",
       "      <td>Subscriber</td>\n",
       "      <td>1979</td>\n",
       "      <td>1</td>\n",
       "      <td>1</td>\n",
       "    </tr>\n",
       "  </tbody>\n",
       "</table>\n",
       "</div>"
      ],
      "text/plain": [
       "   Unnamed: 0  tripduration                 starttime  start station id  \\\n",
       "0           0           320  2019-01-01 00:01:47.4010            3160.0   \n",
       "1           1           316  2019-01-01 00:04:43.7360             519.0   \n",
       "2           2           591  2019-01-01 00:06:03.9970            3171.0   \n",
       "3           3          2719  2019-01-01 00:07:03.5450             504.0   \n",
       "4           4           303  2019-01-01 00:07:35.9450             229.0   \n",
       "\n",
       "            start station name  start station latitude  \\\n",
       "0  Central Park West & W 76 St               40.778968   \n",
       "1        Pershing Square North               40.751873   \n",
       "2      Amsterdam Ave & W 82 St               40.785247   \n",
       "3              1 Ave & E 16 St               40.732219   \n",
       "4               Great Jones St               40.727434   \n",
       "\n",
       "   start station longitude        end station name    usertype  birth year  \\\n",
       "0               -73.973747  W 89 St & Columbus Ave  Subscriber        1971   \n",
       "1               -73.977706         E 39 St & 2 Ave  Subscriber        1964   \n",
       "2               -73.976673         E 77 St & 3 Ave  Subscriber        1987   \n",
       "3               -73.981656         W 15 St & 6 Ave  Subscriber        1990   \n",
       "4               -73.993790      E 20 St & Park Ave  Subscriber        1979   \n",
       "\n",
       "   gender  month  \n",
       "0       1      1  \n",
       "1       1      1  \n",
       "2       1      1  \n",
       "3       1      1  \n",
       "4       1      1  "
      ]
     },
     "execution_count": 1,
     "metadata": {},
     "output_type": "execute_result"
    }
   ],
   "source": [
    "import pandas as pd\n",
    "ana_df = pd.read_csv(\"Resources/2019_ana.csv\")\n",
    "ana_df.head()"
   ]
  },
  {
   "cell_type": "code",
   "execution_count": null,
   "id": "76ff6526",
   "metadata": {},
   "outputs": [],
   "source": [
    "station_df = ana_df[[\"tripduration\", \"start station name\", \"start station latitude\", \"start station longitude\"]]\n",
    "\n",
    "# to understand the distribution of trip duration\n",
    "# quantitively determine whether outliers exist using InterQuatil Range\n",
    "quantile = station_df[\"tripduration\"].quantile([0.25, 0.5, 0.75])\n",
    "lowerq = quantile[0.25]\n",
    "upperq = quantile[0.75]\n",
    "IQR = upperq - lowerq\n",
    "lower_bound = lowerq - 1.5*IQR\n",
    "upper_bound = upperq + 1.5*IQR\n",
    "upper_df = station_df.loc[station_df[\"tripduration\"]>=upper_bound]\n",
    "lower_df = station_df.loc[station_df[\"tripduration\"]<=lower_bound]"
   ]
  },
  {
   "cell_type": "code",
   "execution_count": null,
   "id": "4a728956",
   "metadata": {},
   "outputs": [],
   "source": [
    "print(f\"There are {upper_df.shape[0]/station_df.shape[0]} extreme larger values & {lower_df.shape[0]/station_df.shape[0]} extreme smaller values\")"
   ]
  },
  {
   "cell_type": "code",
   "execution_count": null,
   "id": "a3d2be95",
   "metadata": {},
   "outputs": [],
   "source": [
    "print(upper_bound, station_df[\"tripduration\"].max())"
   ]
  },
  {
   "cell_type": "markdown",
   "id": "0dada3c4",
   "metadata": {},
   "source": [
    "Analyse relatively short trips:"
   ]
  },
  {
   "cell_type": "code",
   "execution_count": null,
   "id": "2acb4197",
   "metadata": {},
   "outputs": [],
   "source": [
    "within_1 = station_df.loc[(station_df[\"tripduration\"]<3600)]\n",
    "within_24 = station_df.loc[(station_df[\"tripduration\"]<86400) & (station_df[\"tripduration\"]>=3600)]"
   ]
  },
  {
   "cell_type": "code",
   "execution_count": null,
   "id": "d8bb3395",
   "metadata": {},
   "outputs": [],
   "source": [
    "print(within_24.shape[0]/station_df.shape[0])"
   ]
  },
  {
   "cell_type": "code",
   "execution_count": null,
   "id": "28073846",
   "metadata": {},
   "outputs": [],
   "source": [
    "import numpy as np\n",
    "from matplotlib.ticker import FuncFormatter\n",
    "\n",
    "def mil_format(x, pos):\n",
    "    return f\"{x/1000000}\"\n",
    "\n",
    "fig,(ax1, ax2) = plt.subplots(1,2,figsize=(14,6))\n",
    "fig.suptitle(\"Trip Duration Distribution (s)\", fontsize=15)\n",
    "\n",
    "# 10min (600s) as a bin\n",
    "bins=np.arange(0,4200,600)\n",
    "ax1.hist(within_1[\"tripduration\"],bins=bins)\n",
    "ax1.set_xticks(bins)\n",
    "ax1.set_xlim([0,3600])\n",
    "ax1.set_title(\"within 24 hrs\")\n",
    "ax1.set_ylabel(\"Trip No. (MM)\", fontsize=15)\n",
    "ax1.yaxis.set_major_formatter(FuncFormatter(mil_format))\n",
    "\n",
    "# 1hr (3600s) as a bin\n",
    "bins_over = np.arange(3600,90000,3600)\n",
    "ax2.hist(within_24[\"tripduration\"],bins=bins_over)\n",
    "ax2.set_xticks(bins_over)\n",
    "ax2.set_xlim([3600,86400])\n",
    "ax2.set_title(\"between 1hr and 1d\")\n",
    "ax2.yaxis.set_major_formatter(FuncFormatter(mil_format))\n",
    "plt.xticks(rotation=90)\n",
    "plt.savefig(\"analysis/5.jpg\")\n",
    "plt.show()"
   ]
  },
  {
   "cell_type": "markdown",
   "id": "42837534",
   "metadata": {},
   "source": [
    "Understand extreme long trips\n",
    "* how many are ther\n",
    "* which stations (circle indiate times & color indicate durations)"
   ]
  },
  {
   "cell_type": "code",
   "execution_count": 4,
   "id": "ae4e47d4",
   "metadata": {},
   "outputs": [
    {
     "name": "stdout",
     "output_type": "stream",
     "text": [
      "There are 0.00029768831255151337 records with trip duration over 1 day.\n"
     ]
    }
   ],
   "source": [
    "over_24_df = ana_df[[\"tripduration\", \"start station name\", \"start station latitude\", \"start station longitude\"]].loc[ana_df[\"tripduration\"]>=86400]\n",
    "print(f\"There are {over_24_df.shape[0]/ana_df.shape[0]} records with trip duration over 1 day.\")"
   ]
  },
  {
   "cell_type": "code",
   "execution_count": 6,
   "id": "03726a39",
   "metadata": {},
   "outputs": [
    {
     "data": {
      "text/plain": [
       "786"
      ]
     },
     "execution_count": 6,
     "metadata": {},
     "output_type": "execute_result"
    }
   ],
   "source": [
    "over_24_df[\"start station name\"].nunique()"
   ]
  },
  {
   "cell_type": "code",
   "execution_count": 18,
   "id": "3f2f9b38",
   "metadata": {
    "scrolled": true
   },
   "outputs": [],
   "source": [
    "import gmaps\n",
    "from config import gkey\n",
    "gmaps.configure(api_key=gkey)\n",
    "layout = {'width': '800px','height': '400px'}\n",
    "\n",
    "location = over_24_df[[\"start station latitude\", \"start station longitude\"]]\n",
    "layer = gmaps.heatmap_layer(location, weights=over_24_df[\"tripduration\"], max_intensity=30, point_radius=3)"
   ]
  },
  {
   "cell_type": "code",
   "execution_count": 19,
   "id": "84820b7a",
   "metadata": {},
   "outputs": [
    {
     "data": {
      "application/vnd.jupyter.widget-view+json": {
       "model_id": "bba86c56e1b24846ab2b87ea719b4ef0",
       "version_major": 2,
       "version_minor": 0
      },
      "text/plain": [
       "Figure(layout=FigureLayout(height='400px', width='800px'))"
      ]
     },
     "metadata": {},
     "output_type": "display_data"
    }
   ],
   "source": [
    "base = gmaps.figure(layout=layout)\n",
    "base.add_layer(layer)\n",
    "base"
   ]
  },
  {
   "cell_type": "code",
   "execution_count": null,
   "id": "58d7d837",
   "metadata": {},
   "outputs": [],
   "source": []
  }
 ],
 "metadata": {
  "kernelspec": {
   "display_name": "Python [conda env:bootcamp] *",
   "language": "python",
   "name": "conda-env-bootcamp-py"
  },
  "language_info": {
   "codemirror_mode": {
    "name": "ipython",
    "version": 3
   },
   "file_extension": ".py",
   "mimetype": "text/x-python",
   "name": "python",
   "nbconvert_exporter": "python",
   "pygments_lexer": "ipython3",
   "version": "3.7.13"
  }
 },
 "nbformat": 4,
 "nbformat_minor": 5
}
