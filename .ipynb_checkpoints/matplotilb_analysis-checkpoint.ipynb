{
 "cells": [
  {
   "cell_type": "markdown",
   "id": "14a08c3d",
   "metadata": {},
   "source": [
    "## Data Cleaning & Extraction"
   ]
  },
  {
   "cell_type": "code",
   "execution_count": null,
   "id": "a109f2c9",
   "metadata": {},
   "outputs": [],
   "source": [
    "import pandas as pd\n",
    "import matplotlib.pyplot as plt"
   ]
  },
  {
   "cell_type": "code",
   "execution_count": null,
   "id": "e3c88f33",
   "metadata": {},
   "outputs": [],
   "source": [
    "# read files \n",
    "jan = pd.read_csv(\"Resources/201901-citibike-tripdata.csv\")\n",
    "feb = pd.read_csv(\"Resources/201902-citibike-tripdata.csv\")\n",
    "mar = pd.read_csv(\"Resources/201903-citibike-tripdata.csv\")\n",
    "apr = pd.read_csv(\"Resources/201904-citibike-tripdata.csv\")\n",
    "may = pd.read_csv(\"Resources/201905-citibike-tripdata.csv\")\n",
    "jun = pd.read_csv(\"Resources/201906-citibike-tripdata.csv\")\n",
    "jul = pd.read_csv(\"Resources/201907-citibike-tripdata.csv\")\n",
    "aug = pd.read_csv(\"Resources/201908-citibike-tripdata.csv\")\n",
    "sep = pd.read_csv(\"Resources/201909-citibike-tripdata.csv\")\n",
    "oct = pd.read_csv(\"Resources/201910-citibike-tripdata.csv\")\n",
    "nov = pd.read_csv(\"Resources/201911-citibike-tripdata.csv\")\n",
    "dec = pd.read_csv(\"Resources/201912-citibike-tripdata.csv\")"
   ]
  },
  {
   "cell_type": "markdown",
   "id": "e0f6a53e",
   "metadata": {},
   "source": [
    "Check whether we need to remove any records,and it shows that only start & end stations are missing some records.\n",
    "I keep it as it is not wrong records but just missing information, and it would not impact results of station analysis as\n",
    "it is just a small scale.\n"
   ]
  },
  {
   "cell_type": "code",
   "execution_count": null,
   "id": "25c8e5e5",
   "metadata": {},
   "outputs": [],
   "source": [
    "df_list = [jan, feb, mar, apr, may, jun, jul, aug, sep, oct, nov, dec]\n",
    "for df in df_list:\n",
    "    print(f\"There are {df.shape[0]} row\")\n",
    "    print(df.isna().sum())\n",
    "    print(\"=\"*40)"
   ]
  },
  {
   "cell_type": "code",
   "execution_count": null,
   "id": "8a8b12e3",
   "metadata": {},
   "outputs": [],
   "source": [
    "# Filter the columns that we want & add Month column\n",
    "drop_columns = [\"stoptime\",\"end station id\",\"end station latitude\",\"end station longitude\",\"bikeid\"]\n",
    "\n",
    "for df in df_list: \n",
    "    df.drop(columns = drop_columns, inplace=True)\n",
    "    df[\"month\"]= [time[5:7]for time in df[\"starttime\"]]\n",
    "\n",
    "# Make the final data for analysis\n",
    "ana_df = pd.concat(df_list, axis=0, ignore_index=True)\n",
    "ana_df.head()"
   ]
  },
  {
   "cell_type": "code",
   "execution_count": null,
   "id": "0bba749d",
   "metadata": {},
   "outputs": [],
   "source": [
    "# Save it for further analysis\n",
    "ana_df.to_csv(\"Resources/2019_ana.csv\")"
   ]
  },
  {
   "cell_type": "markdown",
   "id": "4003aaed",
   "metadata": {},
   "source": [
    "## Analysis 1:　Ｍonthly total trips (by customer type)"
   ]
  },
  {
   "cell_type": "code",
   "execution_count": null,
   "id": "bf25050d",
   "metadata": {},
   "outputs": [],
   "source": [
    "# ana_df[\"usertype\"].unique()\n",
    "mon_total = ana_df[[\"usertype\", \"month\"]]\n",
    "x = mon_total[\"month\"].unique()\n",
    "y_sub = mon_total.loc[mon_total[\"usertype\"]==\"Subscriber\"].groupby(\"month\").count()[\"usertype\"]/1000000\n",
    "y_cus = mon_total.loc[mon_total[\"usertype\"]==\"Customer\"].groupby(\"month\").count()[\"usertype\"]/1000000"
   ]
  },
  {
   "cell_type": "code",
   "execution_count": null,
   "id": "31d9e4bb",
   "metadata": {},
   "outputs": [],
   "source": [
    "plt.figure(figsize=[10,6])\n",
    "plt.plot(x, y_sub, \"o-c\", label=\"Subscriber\")\n",
    "plt.plot(x, y_cus, \"o-g\", label=\"Customer\")\n",
    "plt.legend(loc=\"upper left\")\n",
    "plt.ylim(0, max(y_sub+0.2))\n",
    "plt.title(\"Monthly Total Trips\", fontsize=20)\n",
    "plt.ylabel(\"Total Trips (MM)\", fontsize=15)\n",
    "plt.savefig(\"analysis/1.jpg\")\n",
    "plt.show()"
   ]
  },
  {
   "cell_type": "markdown",
   "id": "2343f9f4",
   "metadata": {},
   "source": [
    "## Analysis 2: Top Age Groups Utilising Program"
   ]
  },
  {
   "cell_type": "code",
   "execution_count": 1,
   "id": "d8f14ddd",
   "metadata": {},
   "outputs": [],
   "source": [
    "import pandas as pd\n",
    "import matplotlib.pyplot as plt\n",
    "\n",
    "ana_df = pd.read_csv(\"Resources/2019_ana.csv\")"
   ]
  },
  {
   "cell_type": "code",
   "execution_count": 2,
   "id": "37717818",
   "metadata": {
    "collapsed": true
   },
   "outputs": [
    {
     "name": "stderr",
     "output_type": "stream",
     "text": [
      "C:\\Users\\Eva\\anaconda3\\envs\\bootcamp\\lib\\site-packages\\ipykernel_launcher.py:3: SettingWithCopyWarning: \n",
      "A value is trying to be set on a copy of a slice from a DataFrame.\n",
      "Try using .loc[row_indexer,col_indexer] = value instead\n",
      "\n",
      "See the caveats in the documentation: https://pandas.pydata.org/pandas-docs/stable/user_guide/indexing.html#returning-a-view-versus-a-copy\n",
      "  This is separate from the ipykernel package so we can avoid doing imports until\n"
     ]
    }
   ],
   "source": [
    "from datetime import datetime\n",
    "age_group = ana_df[[\"usertype\", \"birth year\"]]\n",
    "age_group[\"age\"]= datetime.now().year - age_group[\"birth year\"]"
   ]
  },
  {
   "cell_type": "code",
   "execution_count": 3,
   "id": "5bf2e849",
   "metadata": {
    "collapsed": true
   },
   "outputs": [
    {
     "name": "stdout",
     "output_type": "stream",
     "text": [
      "19 165\n",
      "53     1711935\n",
      "33      853933\n",
      "32      850747\n",
      "31      817709\n",
      "30      803898\n",
      "34      801123\n",
      "29      740948\n",
      "35      722834\n",
      "36      668711\n",
      "28      656337\n",
      "37      654738\n",
      "38      606984\n",
      "39      562845\n",
      "27      556999\n",
      "40      519622\n",
      "41      489789\n",
      "42      465719\n",
      "43      430920\n",
      "44      372967\n",
      "26      360156\n",
      "45      358417\n",
      "46      356855\n",
      "52      350497\n",
      "47      347136\n",
      "48      325352\n",
      "51      324270\n",
      "50      320960\n",
      "49      313655\n",
      "54      293922\n",
      "55      287708\n",
      "57      268630\n",
      "56      268051\n",
      "58      260313\n",
      "59      243358\n",
      "25      238771\n",
      "60      231507\n",
      "62      202959\n",
      "61      196914\n",
      "24      176719\n",
      "63      167549\n",
      "23      161943\n",
      "64      148515\n",
      "65      133757\n",
      "22      124106\n",
      "66      122537\n",
      "67       98021\n",
      "68       90211\n",
      "69       78878\n",
      "21       62453\n",
      "70       49639\n",
      "71       47903\n",
      "72       36460\n",
      "73       28572\n",
      "74       27286\n",
      "20       27089\n",
      "75       24376\n",
      "76       18676\n",
      "77       11990\n",
      "19       10291\n",
      "80        9663\n",
      "79        9336\n",
      "78        8295\n",
      "81        6818\n",
      "82        4838\n",
      "85        3595\n",
      "122       3430\n",
      "86        3234\n",
      "84        2361\n",
      "83        2038\n",
      "87        1601\n",
      "90        1306\n",
      "134       1097\n",
      "92        1083\n",
      "121        777\n",
      "132        774\n",
      "133        699\n",
      "98         533\n",
      "88         528\n",
      "89         450\n",
      "126        427\n",
      "94         300\n",
      "136        286\n",
      "135        274\n",
      "105        271\n",
      "137        269\n",
      "101        264\n",
      "129        201\n",
      "123        187\n",
      "110        177\n",
      "112        175\n",
      "111        165\n",
      "103        163\n",
      "104        145\n",
      "91         118\n",
      "127        116\n",
      "93         113\n",
      "106         67\n",
      "107         56\n",
      "115         55\n",
      "113         53\n",
      "99          35\n",
      "125         28\n",
      "100         20\n",
      "128         18\n",
      "109         17\n",
      "102         17\n",
      "118         16\n",
      "96          13\n",
      "95           9\n",
      "165          6\n",
      "148          5\n",
      "131          4\n",
      "114          3\n",
      "116          2\n",
      "159          2\n",
      "117          2\n",
      "119          1\n",
      "142          1\n"
     ]
    }
   ],
   "source": [
    "print(age_group[\"age\"].min(), age_group[\"age\"].max())\n",
    "print(age_group[\"age\"].value_counts().to_string())"
   ]
  },
  {
   "cell_type": "markdown",
   "id": "a9288b96",
   "metadata": {},
   "source": [
    "Age groups would be categorised as:\n",
    "under 20, 20-30, 30-40, 40-50, 50-60,60-70,70-80, older than 80"
   ]
  },
  {
   "cell_type": "code",
   "execution_count": 4,
   "id": "439000a5",
   "metadata": {},
   "outputs": [
    {
     "name": "stderr",
     "output_type": "stream",
     "text": [
      "C:\\Users\\Eva\\anaconda3\\envs\\bootcamp\\lib\\site-packages\\ipykernel_launcher.py:3: SettingWithCopyWarning: \n",
      "A value is trying to be set on a copy of a slice from a DataFrame.\n",
      "Try using .loc[row_indexer,col_indexer] = value instead\n",
      "\n",
      "See the caveats in the documentation: https://pandas.pydata.org/pandas-docs/stable/user_guide/indexing.html#returning-a-view-versus-a-copy\n",
      "  This is separate from the ipykernel package so we can avoid doing imports until\n"
     ]
    },
    {
     "data": {
      "text/html": [
       "<div>\n",
       "<style scoped>\n",
       "    .dataframe tbody tr th:only-of-type {\n",
       "        vertical-align: middle;\n",
       "    }\n",
       "\n",
       "    .dataframe tbody tr th {\n",
       "        vertical-align: top;\n",
       "    }\n",
       "\n",
       "    .dataframe thead th {\n",
       "        text-align: right;\n",
       "    }\n",
       "</style>\n",
       "<table border=\"1\" class=\"dataframe\">\n",
       "  <thead>\n",
       "    <tr style=\"text-align: right;\">\n",
       "      <th></th>\n",
       "      <th>usertype</th>\n",
       "      <th>birth year</th>\n",
       "      <th>age</th>\n",
       "      <th>age_group</th>\n",
       "    </tr>\n",
       "  </thead>\n",
       "  <tbody>\n",
       "    <tr>\n",
       "      <th>0</th>\n",
       "      <td>Subscriber</td>\n",
       "      <td>1971</td>\n",
       "      <td>51</td>\n",
       "      <td>50-60</td>\n",
       "    </tr>\n",
       "    <tr>\n",
       "      <th>1</th>\n",
       "      <td>Subscriber</td>\n",
       "      <td>1964</td>\n",
       "      <td>58</td>\n",
       "      <td>50-60</td>\n",
       "    </tr>\n",
       "    <tr>\n",
       "      <th>2</th>\n",
       "      <td>Subscriber</td>\n",
       "      <td>1987</td>\n",
       "      <td>35</td>\n",
       "      <td>30-40</td>\n",
       "    </tr>\n",
       "    <tr>\n",
       "      <th>3</th>\n",
       "      <td>Subscriber</td>\n",
       "      <td>1990</td>\n",
       "      <td>32</td>\n",
       "      <td>30-40</td>\n",
       "    </tr>\n",
       "    <tr>\n",
       "      <th>4</th>\n",
       "      <td>Subscriber</td>\n",
       "      <td>1979</td>\n",
       "      <td>43</td>\n",
       "      <td>40-50</td>\n",
       "    </tr>\n",
       "  </tbody>\n",
       "</table>\n",
       "</div>"
      ],
      "text/plain": [
       "     usertype  birth year  age age_group\n",
       "0  Subscriber        1971   51     50-60\n",
       "1  Subscriber        1964   58     50-60\n",
       "2  Subscriber        1987   35     30-40\n",
       "3  Subscriber        1990   32     30-40\n",
       "4  Subscriber        1979   43     40-50"
      ]
     },
     "execution_count": 4,
     "metadata": {},
     "output_type": "execute_result"
    }
   ],
   "source": [
    "bins = [0,20,30,40,50,60,70,80,200]\n",
    "labels = [\"under 20\",\"20-30\",\"30-40\",\"40-50\",\"50-60\",\"60-70\",\"70-80\", \"Other\"]\n",
    "age_group[\"age_group\"]=pd.cut(x=age_group['age'],bins=bins, labels=labels)\n",
    "age_group.head()"
   ]
  },
  {
   "cell_type": "code",
   "execution_count": 5,
   "id": "ab309c20",
   "metadata": {},
   "outputs": [],
   "source": [
    "# get plotting data\n",
    "y_sub = age_group.loc[age_group[\"usertype\"]==\"Subscriber\"].groupby(\"age_group\").count()[\"usertype\"] / 1000\n",
    "y_cus = age_group.loc[age_group[\"usertype\"]==\"Customer\"].groupby(\"age_group\").count()[\"usertype\"] / 1000\n",
    "base = age_group.groupby(\"age_group\").count()[\"usertype\"]\n",
    "per = y_sub*1000/base\n",
    "label = [str(per[i]*100)[:4]+\"%\" for i in range(len(per))]"
   ]
  },
  {
   "cell_type": "code",
   "execution_count": 7,
   "id": "6d4119af",
   "metadata": {},
   "outputs": [
    {
     "data": {
      "image/png": "[encoded data removed]",
      "text/plain": [
       "<Figure size 720x576 with 1 Axes>"
      ]
     },
     "metadata": {
      "needs_background": "light"
     },
     "output_type": "display_data"
    }
   ],
   "source": [
    "plt.figure(figsize=[10,8])\n",
    "plt.bar(labels, y_sub,color=\"c\", label=\"Subscriber (with % of respective age groups at the top)\")\n",
    "plt.bar(labels, y_cus, bottom=y_sub, color=\"g\", label=\"Customer\")\n",
    "plt.title(\"Total Trips by Age Groups\", fontsize=20)\n",
    "plt.ylabel(\"Trip No. (K)\", fontsize=15)\n",
    "plt.legend(loc=\"upper right\")\n",
    "for i in range(len(label)):\n",
    "    plt.text(labels[i], (y_sub[i]+y_cus[i]+100), label[i], ha=\"center\")\n",
    "plt.savefig(\"analysis/2.jpg\")\n",
    "plt.show()"
   ]
  },
  {
   "cell_type": "code",
   "execution_count": null,
   "id": "e920ca87",
   "metadata": {},
   "outputs": [],
   "source": [
    "text"
   ]
  },
  {
   "cell_type": "code",
   "execution_count": null,
   "id": "944f9e8d",
   "metadata": {},
   "outputs": [],
   "source": []
  }
 ],
 "metadata": {
  "kernelspec": {
   "display_name": "Python [conda env:bootcamp] *",
   "language": "python",
   "name": "conda-env-bootcamp-py"
  },
  "language_info": {
   "codemirror_mode": {
    "name": "ipython",
    "version": 3
   },
   "file_extension": ".py",
   "mimetype": "text/x-python",
   "name": "python",
   "nbconvert_exporter": "python",
   "pygments_lexer": "ipython3",
   "version": "3.7.13"
  }
 },
 "nbformat": 4,
 "nbformat_minor": 5
}
